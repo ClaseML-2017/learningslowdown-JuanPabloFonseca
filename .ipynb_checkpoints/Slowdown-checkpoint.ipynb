{
 "cells": [
  {
   "cell_type": "markdown",
   "metadata": {},
   "source": [
    "### Ejercicio para ver el descenso de velocidad de aprendizaje\n",
    "### Juan Pablo Fonseca 138263"
   ]
  },
  {
   "cell_type": "code",
   "execution_count": 63,
   "metadata": {
    "collapsed": true
   },
   "outputs": [],
   "source": [
    "import tensorflow as tf\n",
    "import pandas as pd\n",
    "import numpy as np\n",
    "from sklearn.model_selection import train_test_split\n",
    "import matplotlib.pyplot as plt\n",
    "import random as rd\n",
    "%matplotlib inline"
   ]
  },
  {
   "cell_type": "code",
   "execution_count": 64,
   "metadata": {
    "collapsed": true
   },
   "outputs": [],
   "source": [
    "# declaración de algunas variables\n",
    "errs = []; cenX = 5; cenY = 5 # errs contendrá los errores en cada iteración\n",
    "pasosEntr = []\n",
    "limRd = 5000; r = 1000 # radio (aplicaremos la del círculo)\n",
    "X_list = [rd.randint(-limRd,limRd) for i in range(limRd*2)]\n",
    "Y_list = [[(1 if ((X[i][0]-cenX)**2)+((X[i][1]-cenY)**2)<=(r**2) else 0)] for i in range(len(X))]\n",
    "X = np.asarray(X_list).reshape(limRd,2)\n",
    "Y = np.array(Y_list)"
   ]
  },
  {
   "cell_type": "code",
   "execution_count": 65,
   "metadata": {
    "collapsed": true
   },
   "outputs": [],
   "source": [
    "capa1input=2\n",
    "capa1output=1\n",
    "x = tf.placeholder(tf.float32, [None, capa1input]) # datos de entrada\n",
    "y_ = tf.placeholder(tf.float32, [None, capa1output]) #y real\n",
    "noNodosOcultos = 3\n",
    "W=tf.Variable(tf.random_uniform([capa1input,noNodosOcultos], -1, 1), name=\"W_layer1\")\n",
    "b = tf.Variable(tf.random_uniform([noNodosOcultos]), name = \"b_layer1\")"
   ]
  },
  {
   "cell_type": "code",
   "execution_count": 66,
   "metadata": {
    "collapsed": true
   },
   "outputs": [],
   "source": [
    "cOculta= tf.nn.sigmoid(tf.matmul(x,W)+b) "
   ]
  },
  {
   "cell_type": "code",
   "execution_count": 67,
   "metadata": {
    "collapsed": true
   },
   "outputs": [],
   "source": [
    "W2=tf.Variable(tf.random_uniform([noNodosOcultos,capa1output], -1, 1), name=\"W_layer2\")\n",
    "b2 = tf.Variable(tf.random_uniform([capa1output]), name = \"b_layer2\")  \n",
    "cSalida = tf.nn.sigmoid(tf.matmul(cOculta,W2)+b2) \n",
    "lam = 0.00001\n",
    "lossfn = tf.reduce_mean(tf.reduce_sum((y_-cSalida)**2))\n",
    "train_step = tf.train.GradientDescentOptimizer(lam).minimize(lossfn)"
   ]
  },
  {
   "cell_type": "markdown",
   "metadata": {},
   "source": [
    "##### inicialización de sesión y variables"
   ]
  },
  {
   "cell_type": "code",
   "execution_count": 68,
   "metadata": {
    "collapsed": true
   },
   "outputs": [],
   "source": [
    "init = tf.global_variables_initializer()\n",
    "sess = tf.Session() \n",
    "sess.run(init)"
   ]
  },
  {
   "cell_type": "code",
   "execution_count": 69,
   "metadata": {
    "collapsed": false
   },
   "outputs": [],
   "source": [
    "rev1 = []\n",
    "rev2 = []\n",
    "b_oculta = []\n",
    "\n",
    "for i in range(1000):\n",
    "    lista_corr=[train_step, lossfn, W, W2, b, b2]\n",
    "    train, error, w1Val, w2Val, b1Val, b2Val = sess.run(lista_corr, feed_dict={x: X, y_: Y})\n",
    "    pasosEntr.append(train)\n",
    "    rev1.append(b1Val[0])\n",
    "    rev2.append(b1Val[1])\n",
    "    errs.append(error)\n",
    "    b_oculta.append(b2Val)\n",
    "    # ciclo de aprendizaje"
   ]
  },
  {
   "cell_type": "markdown",
   "metadata": {},
   "source": [
    "##### Evaluación del proceso anterior"
   ]
  },
  {
   "cell_type": "code",
   "execution_count": 70,
   "metadata": {
    "collapsed": false
   },
   "outputs": [
    {
     "name": "stdout",
     "output_type": "stream",
     "text": [
      "Accuracy: 0.9670000076293945\n"
     ]
    }
   ],
   "source": [
    "predCorr = tf.equal(tf.round(cSalida),y_) \n",
    "accuracy = tf.reduce_mean(tf.cast(predCorr, tf.float32))\n",
    "print(\"Accuracy: {0}\".format(sess.run(accuracy, feed_dict={x: X, y_: Y})))\n",
    "\n",
    "sess.close()"
   ]
  },
  {
   "cell_type": "code",
   "execution_count": 72,
   "metadata": {
    "collapsed": false
   },
   "outputs": [
    {
     "data": {
      "image/png": "[encoded data removed]",
      "text/plain": [
       "<matplotlib.figure.Figure at 0x7f57e93c31d0>"
      ]
     },
     "metadata": {},
     "output_type": "display_data"
    }
   ],
   "source": [
    "absc = [x for x in range(1000)]\n",
    "# plt.scatter(absc, rev1, s=0.7,color='green')\n",
    "plt.scatter(absc, b_oculta, s=0.7, color='blue')\n",
    "\n",
    "\n",
    "plt.show()"
   ]
  },
  {
   "cell_type": "markdown",
   "metadata": {},
   "source": [
    "#### Efectivamente se puede observar un descenso de la velocidad de aprendizaje"
   ]
  },
  {
   "cell_type": "code",
   "execution_count": null,
   "metadata": {
    "collapsed": true
   },
   "outputs": [],
   "source": []
  }
 ],
 "metadata": {
  "kernelspec": {
   "display_name": "Python [Root]",
   "language": "python",
   "name": "Python [Root]"
  },
  "language_info": {
   "codemirror_mode": {
    "name": "ipython",
    "version": 3
   },
   "file_extension": ".py",
   "mimetype": "text/x-python",
   "name": "python",
   "nbconvert_exporter": "python",
   "pygments_lexer": "ipython3",
   "version": "3.5.2"
  }
 },
 "nbformat": 4,
 "nbformat_minor": 0
}
